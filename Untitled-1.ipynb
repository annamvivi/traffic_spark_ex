{
 "cells": [
  {
   "cell_type": "code",
   "execution_count": 1,
   "metadata": {},
   "outputs": [],
   "source": [
    "import findspark\n",
    "findspark.init()"
   ]
  },
  {
   "cell_type": "code",
   "execution_count": 2,
   "metadata": {},
   "outputs": [],
   "source": [
    "import pyspark"
   ]
  },
  {
   "cell_type": "code",
   "execution_count": 3,
   "metadata": {},
   "outputs": [],
   "source": [
    "from pyspark.sql import SparkSession"
   ]
  },
  {
   "cell_type": "code",
   "execution_count": 6,
   "metadata": {},
   "outputs": [],
   "source": [
    "spark = SparkSession.builder.getOrCreate()\n",
    "\n",
    "df= spark.read.csv(\"C:\\linux\\lalin_test\\Relasi_Segmen_ruas.csv\", header = True, sep=';')"
   ]
  },
  {
   "cell_type": "code",
   "execution_count": 7,
   "metadata": {},
   "outputs": [
    {
     "name": "stdout",
     "output_type": "stream",
     "text": [
      "+---+-----------+---------+\n",
      "| No|Nama Segmen|Nama Ruas|\n",
      "+---+-----------+---------+\n",
      "|321| Segmen 321|   Ruas I|\n",
      "|322| Segmen 322|   Ruas I|\n",
      "|323| Segmen 323|   Ruas I|\n",
      "|324| Segmen 324|   Ruas I|\n",
      "|325| Segmen 325|   Ruas I|\n",
      "|326| Segmen 326|   Ruas I|\n",
      "|327| Segmen 327|   Ruas I|\n",
      "|328| Segmen 328|   Ruas I|\n",
      "|329| Segmen 329|   Ruas I|\n",
      "|330| Segmen 330|   Ruas I|\n",
      "|331| Segmen 331|   Ruas I|\n",
      "|332| Segmen 332|   Ruas I|\n",
      "|333| Segmen 333|   Ruas I|\n",
      "|334| Segmen 334|   Ruas I|\n",
      "|335| Segmen 335|   Ruas I|\n",
      "|336| Segmen 336|   Ruas I|\n",
      "|337| Segmen 337|   Ruas I|\n",
      "|338| Segmen 338|   Ruas I|\n",
      "|339| Segmen 339|   Ruas I|\n",
      "|340| Segmen 340|   Ruas I|\n",
      "+---+-----------+---------+\n",
      "only showing top 20 rows\n",
      "\n"
     ]
    }
   ],
   "source": [
    "df.show()"
   ]
  }
 ],
 "metadata": {
  "kernelspec": {
   "display_name": "Python 3",
   "language": "python",
   "name": "python3"
  },
  "language_info": {
   "codemirror_mode": {
    "name": "ipython",
    "version": 3
   },
   "file_extension": ".py",
   "mimetype": "text/x-python",
   "name": "python",
   "nbconvert_exporter": "python",
   "pygments_lexer": "ipython3",
   "version": "3.10.-1"
  },
  "orig_nbformat": 4
 },
 "nbformat": 4,
 "nbformat_minor": 2
}
